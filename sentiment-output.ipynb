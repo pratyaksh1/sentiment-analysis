{
 "cells": [
  {
   "cell_type": "code",
   "execution_count": 29,
   "metadata": {
    "execution": {
     "iopub.execute_input": "2021-10-07T17:05:00.685602Z",
     "iopub.status.busy": "2021-10-07T17:05:00.685258Z",
     "iopub.status.idle": "2021-10-07T17:05:00.691816Z",
     "shell.execute_reply": "2021-10-07T17:05:00.690831Z",
     "shell.execute_reply.started": "2021-10-07T17:05:00.685570Z"
    }
   },
   "outputs": [],
   "source": [
    "import pandas as pd\n",
    "import re\n",
    "import numpy as np\n",
    "import html\n",
    "import seaborn as sns\n",
    "import matplotlib.pyplot as plt\n",
    "%matplotlib inline\n",
    "from wordcloud import WordCloud"
   ]
  },
  {
   "cell_type": "code",
   "execution_count": 30,
   "metadata": {
    "execution": {
     "iopub.execute_input": "2021-10-07T17:05:00.910097Z",
     "iopub.status.busy": "2021-10-07T17:05:00.909711Z",
     "iopub.status.idle": "2021-10-07T17:05:01.587096Z",
     "shell.execute_reply": "2021-10-07T17:05:01.586010Z",
     "shell.execute_reply.started": "2021-10-07T17:05:00.910049Z"
    }
   },
   "outputs": [],
   "source": [
    "df = pd.read_csv(\"../input/imdb-dataset-of-50k-movie-reviews/IMDB Dataset.csv\")"
   ]
  },
  {
   "cell_type": "code",
   "execution_count": 31,
   "metadata": {
    "execution": {
     "iopub.execute_input": "2021-10-07T17:05:01.588879Z",
     "iopub.status.busy": "2021-10-07T17:05:01.588564Z",
     "iopub.status.idle": "2021-10-07T17:05:01.602392Z",
     "shell.execute_reply": "2021-10-07T17:05:01.601316Z",
     "shell.execute_reply.started": "2021-10-07T17:05:01.588846Z"
    }
   },
   "outputs": [
    {
     "data": {
      "text/html": [
       "<div>\n",
       "<style scoped>\n",
       "    .dataframe tbody tr th:only-of-type {\n",
       "        vertical-align: middle;\n",
       "    }\n",
       "\n",
       "    .dataframe tbody tr th {\n",
       "        vertical-align: top;\n",
       "    }\n",
       "\n",
       "    .dataframe thead th {\n",
       "        text-align: right;\n",
       "    }\n",
       "</style>\n",
       "<table border=\"1\" class=\"dataframe\">\n",
       "  <thead>\n",
       "    <tr style=\"text-align: right;\">\n",
       "      <th></th>\n",
       "      <th>review</th>\n",
       "      <th>sentiment</th>\n",
       "    </tr>\n",
       "  </thead>\n",
       "  <tbody>\n",
       "    <tr>\n",
       "      <th>0</th>\n",
       "      <td>One of the other reviewers has mentioned that ...</td>\n",
       "      <td>positive</td>\n",
       "    </tr>\n",
       "    <tr>\n",
       "      <th>1</th>\n",
       "      <td>A wonderful little production. &lt;br /&gt;&lt;br /&gt;The...</td>\n",
       "      <td>positive</td>\n",
       "    </tr>\n",
       "    <tr>\n",
       "      <th>2</th>\n",
       "      <td>I thought this was a wonderful way to spend ti...</td>\n",
       "      <td>positive</td>\n",
       "    </tr>\n",
       "    <tr>\n",
       "      <th>3</th>\n",
       "      <td>Basically there's a family where a little boy ...</td>\n",
       "      <td>negative</td>\n",
       "    </tr>\n",
       "    <tr>\n",
       "      <th>4</th>\n",
       "      <td>Petter Mattei's \"Love in the Time of Money\" is...</td>\n",
       "      <td>positive</td>\n",
       "    </tr>\n",
       "    <tr>\n",
       "      <th>...</th>\n",
       "      <td>...</td>\n",
       "      <td>...</td>\n",
       "    </tr>\n",
       "    <tr>\n",
       "      <th>49995</th>\n",
       "      <td>I thought this movie did a down right good job...</td>\n",
       "      <td>positive</td>\n",
       "    </tr>\n",
       "    <tr>\n",
       "      <th>49996</th>\n",
       "      <td>Bad plot, bad dialogue, bad acting, idiotic di...</td>\n",
       "      <td>negative</td>\n",
       "    </tr>\n",
       "    <tr>\n",
       "      <th>49997</th>\n",
       "      <td>I am a Catholic taught in parochial elementary...</td>\n",
       "      <td>negative</td>\n",
       "    </tr>\n",
       "    <tr>\n",
       "      <th>49998</th>\n",
       "      <td>I'm going to have to disagree with the previou...</td>\n",
       "      <td>negative</td>\n",
       "    </tr>\n",
       "    <tr>\n",
       "      <th>49999</th>\n",
       "      <td>No one expects the Star Trek movies to be high...</td>\n",
       "      <td>negative</td>\n",
       "    </tr>\n",
       "  </tbody>\n",
       "</table>\n",
       "<p>50000 rows × 2 columns</p>\n",
       "</div>"
      ],
      "text/plain": [
       "                                                  review sentiment\n",
       "0      One of the other reviewers has mentioned that ...  positive\n",
       "1      A wonderful little production. <br /><br />The...  positive\n",
       "2      I thought this was a wonderful way to spend ti...  positive\n",
       "3      Basically there's a family where a little boy ...  negative\n",
       "4      Petter Mattei's \"Love in the Time of Money\" is...  positive\n",
       "...                                                  ...       ...\n",
       "49995  I thought this movie did a down right good job...  positive\n",
       "49996  Bad plot, bad dialogue, bad acting, idiotic di...  negative\n",
       "49997  I am a Catholic taught in parochial elementary...  negative\n",
       "49998  I'm going to have to disagree with the previou...  negative\n",
       "49999  No one expects the Star Trek movies to be high...  negative\n",
       "\n",
       "[50000 rows x 2 columns]"
      ]
     },
     "execution_count": 31,
     "metadata": {},
     "output_type": "execute_result"
    }
   ],
   "source": [
    "df"
   ]
  },
  {
   "cell_type": "code",
   "execution_count": 4,
   "metadata": {
    "execution": {
     "iopub.execute_input": "2021-10-07T16:35:31.291308Z",
     "iopub.status.busy": "2021-10-07T16:35:31.290918Z",
     "iopub.status.idle": "2021-10-07T16:35:33.283439Z",
     "shell.execute_reply": "2021-10-07T16:35:33.282367Z",
     "shell.execute_reply.started": "2021-10-07T16:35:31.291276Z"
    }
   },
   "outputs": [],
   "source": [
    "text = \" \".join(str(cat.split()) for cat in df.review)"
   ]
  },
  {
   "cell_type": "code",
   "execution_count": 5,
   "metadata": {
    "execution": {
     "iopub.execute_input": "2021-10-07T16:35:33.285126Z",
     "iopub.status.busy": "2021-10-07T16:35:33.284868Z",
     "iopub.status.idle": "2021-10-07T16:35:33.291147Z",
     "shell.execute_reply": "2021-10-07T16:35:33.290328Z",
     "shell.execute_reply.started": "2021-10-07T16:35:33.285101Z"
    }
   },
   "outputs": [
    {
     "data": {
      "text/plain": [
       "'A wonderful little production. <br /><br />The filming technique is very unassuming- very old-time-BBC fashion and gives a comforting, and sometimes discomforting, sense of realism to the entire piece. <br /><br />The actors are extremely well chosen- Michael Sheen not only \"has got all the polari\" but he has all the voices down pat too! You can truly see the seamless editing guided by the references to Williams\\' diary entries, not only is it well worth the watching but it is a terrificly written and performed piece. A masterful production about one of the great master\\'s of comedy and his life. <br /><br />The realism really comes home with the little things: the fantasy of the guard which, rather than use the traditional \\'dream\\' techniques remains solid then disappears. It plays on our knowledge and our senses, particularly with the scenes concerning Orton and Halliwell and the sets (particularly of their flat with Halliwell\\'s murals decorating every surface) are terribly well done.'"
      ]
     },
     "execution_count": 5,
     "metadata": {},
     "output_type": "execute_result"
    }
   ],
   "source": [
    "df['review'][1]"
   ]
  },
  {
   "cell_type": "code",
   "execution_count": 6,
   "metadata": {
    "execution": {
     "iopub.execute_input": "2021-10-07T16:35:33.293304Z",
     "iopub.status.busy": "2021-10-07T16:35:33.292768Z",
     "iopub.status.idle": "2021-10-07T16:35:51.795563Z",
     "shell.execute_reply": "2021-10-07T16:35:51.794418Z",
     "shell.execute_reply.started": "2021-10-07T16:35:33.293271Z"
    }
   },
   "outputs": [],
   "source": [
    "word_cloud = WordCloud(collocations = False, background_color = 'white').generate(text)"
   ]
  },
  {
   "cell_type": "code",
   "execution_count": 8,
   "metadata": {
    "execution": {
     "iopub.execute_input": "2021-10-07T16:36:28.478281Z",
     "iopub.status.busy": "2021-10-07T16:36:28.477741Z",
     "iopub.status.idle": "2021-10-07T16:36:28.637264Z",
     "shell.execute_reply": "2021-10-07T16:36:28.636606Z",
     "shell.execute_reply.started": "2021-10-07T16:36:28.478237Z"
    }
   },
   "outputs": [
    {
     "data": {
      "image/png": "[encoded data removed]",
      "text/plain": [
       "<Figure size 432x288 with 1 Axes>"
      ]
     },
     "metadata": {
      "needs_background": "light"
     },
     "output_type": "display_data"
    }
   ],
   "source": [
    "plt.imshow(word_cloud, interpolation='bilinear')\n",
    "plt.axis(\"off\")\n",
    "plt.show()"
   ]
  },
  {
   "cell_type": "code",
   "execution_count": 7,
   "metadata": {
    "execution": {
     "iopub.execute_input": "2021-10-07T16:36:09.044593Z",
     "iopub.status.busy": "2021-10-07T16:36:09.044242Z",
     "iopub.status.idle": "2021-10-07T16:36:09.051456Z",
     "shell.execute_reply": "2021-10-07T16:36:09.050355Z",
     "shell.execute_reply.started": "2021-10-07T16:36:09.044562Z"
    }
   },
   "outputs": [
    {
     "data": {
      "text/plain": [
       "\"One of the other reviewers has mentioned that after watching just 1 Oz episode you'll be hooked. They are right, as this is exactly what happened with me.<br /><br />The first thing that struck me about Oz was its brutality and unflinching scenes of violence, which set in right from the word GO. Trust me, this is not a show for the faint hearted or timid. This show pulls no punches with regards to drugs, sex or violence. Its is hardcore, in the classic use of the word.<br /><br />It is called OZ as that is the nickname given to the Oswald Maximum Security State Penitentary. It focuses mainly on Emerald City, an experimental section of the prison where all the cells have glass fronts and face inwards, so privacy is not high on the agenda. Em City is home to many..Aryans, Muslims, gangstas, Latinos, Christians, Italians, Irish and more....so scuffles, death stares, dodgy dealings and shady agreements are never far away.<br /><br />I would say the main appeal of the show is due to the fact that it goes where other shows wouldn't dare. Forget pretty pictures painted for mainstream audiences, forget charm, forget romance...OZ doesn't mess around. The first episode I ever saw struck me as so nasty it was surreal, I couldn't say I was ready for it, but as I watched more, I developed a taste for Oz, and got accustomed to the high levels of graphic violence. Not just violence, but injustice (crooked guards who'll be sold out for a nickel, inmates who'll kill on order and get away with it, well mannered, middle class inmates being turned into prison bitches due to their lack of street skills or prison experience) Watching Oz, you may become comfortable with what is uncomfortable viewing....thats if you can get in touch with your darker side.\""
      ]
     },
     "execution_count": 7,
     "metadata": {},
     "output_type": "execute_result"
    }
   ],
   "source": [
    "df['review'][0]"
   ]
  },
  {
   "cell_type": "code",
   "execution_count": 9,
   "metadata": {
    "execution": {
     "iopub.execute_input": "2021-10-07T16:36:35.853629Z",
     "iopub.status.busy": "2021-10-07T16:36:35.853113Z",
     "iopub.status.idle": "2021-10-07T16:36:35.998446Z",
     "shell.execute_reply": "2021-10-07T16:36:35.997802Z",
     "shell.execute_reply.started": "2021-10-07T16:36:35.853576Z"
    }
   },
   "outputs": [
    {
     "data": {
      "text/html": [
       "<div>\n",
       "<style scoped>\n",
       "    .dataframe tbody tr th:only-of-type {\n",
       "        vertical-align: middle;\n",
       "    }\n",
       "\n",
       "    .dataframe tbody tr th {\n",
       "        vertical-align: top;\n",
       "    }\n",
       "\n",
       "    .dataframe thead th {\n",
       "        text-align: right;\n",
       "    }\n",
       "</style>\n",
       "<table border=\"1\" class=\"dataframe\">\n",
       "  <thead>\n",
       "    <tr style=\"text-align: right;\">\n",
       "      <th></th>\n",
       "      <th>review</th>\n",
       "      <th>sentiment</th>\n",
       "    </tr>\n",
       "  </thead>\n",
       "  <tbody>\n",
       "    <tr>\n",
       "      <th>count</th>\n",
       "      <td>50000</td>\n",
       "      <td>50000</td>\n",
       "    </tr>\n",
       "    <tr>\n",
       "      <th>unique</th>\n",
       "      <td>49582</td>\n",
       "      <td>2</td>\n",
       "    </tr>\n",
       "    <tr>\n",
       "      <th>top</th>\n",
       "      <td>Loved today's show!!! It was a variety and not...</td>\n",
       "      <td>negative</td>\n",
       "    </tr>\n",
       "    <tr>\n",
       "      <th>freq</th>\n",
       "      <td>5</td>\n",
       "      <td>25000</td>\n",
       "    </tr>\n",
       "  </tbody>\n",
       "</table>\n",
       "</div>"
      ],
      "text/plain": [
       "                                                   review sentiment\n",
       "count                                               50000     50000\n",
       "unique                                              49582         2\n",
       "top     Loved today's show!!! It was a variety and not...  negative\n",
       "freq                                                    5     25000"
      ]
     },
     "execution_count": 9,
     "metadata": {},
     "output_type": "execute_result"
    }
   ],
   "source": [
    "df.describe()"
   ]
  },
  {
   "cell_type": "code",
   "execution_count": 10,
   "metadata": {
    "execution": {
     "iopub.execute_input": "2021-10-07T16:36:36.240841Z",
     "iopub.status.busy": "2021-10-07T16:36:36.240490Z",
     "iopub.status.idle": "2021-10-07T16:36:36.250323Z",
     "shell.execute_reply": "2021-10-07T16:36:36.249406Z",
     "shell.execute_reply.started": "2021-10-07T16:36:36.240809Z"
    }
   },
   "outputs": [
    {
     "data": {
      "text/plain": [
       "<bound method DataFrame.info of                                                   review sentiment\n",
       "0      One of the other reviewers has mentioned that ...  positive\n",
       "1      A wonderful little production. <br /><br />The...  positive\n",
       "2      I thought this was a wonderful way to spend ti...  positive\n",
       "3      Basically there's a family where a little boy ...  negative\n",
       "4      Petter Mattei's \"Love in the Time of Money\" is...  positive\n",
       "...                                                  ...       ...\n",
       "49995  I thought this movie did a down right good job...  positive\n",
       "49996  Bad plot, bad dialogue, bad acting, idiotic di...  negative\n",
       "49997  I am a Catholic taught in parochial elementary...  negative\n",
       "49998  I'm going to have to disagree with the previou...  negative\n",
       "49999  No one expects the Star Trek movies to be high...  negative\n",
       "\n",
       "[50000 rows x 2 columns]>"
      ]
     },
     "execution_count": 10,
     "metadata": {},
     "output_type": "execute_result"
    }
   ],
   "source": [
    "df.info"
   ]
  },
  {
   "cell_type": "code",
   "execution_count": 11,
   "metadata": {
    "execution": {
     "iopub.execute_input": "2021-10-07T16:36:39.612668Z",
     "iopub.status.busy": "2021-10-07T16:36:39.612174Z",
     "iopub.status.idle": "2021-10-07T16:36:39.762009Z",
     "shell.execute_reply": "2021-10-07T16:36:39.761277Z",
     "shell.execute_reply.started": "2021-10-07T16:36:39.612639Z"
    }
   },
   "outputs": [
    {
     "data": {
      "text/plain": [
       "<AxesSubplot:xlabel='sentiment', ylabel='count'>"
      ]
     },
     "execution_count": 11,
     "metadata": {},
     "output_type": "execute_result"
    },
    {
     "data": {
      "image/png": "[encoded data removed]",
      "text/plain": [
       "<Figure size 432x288 with 1 Axes>"
      ]
     },
     "metadata": {
      "needs_background": "light"
     },
     "output_type": "display_data"
    }
   ],
   "source": [
    "sns.countplot(x = df['sentiment'])"
   ]
  },
  {
   "cell_type": "code",
   "execution_count": 12,
   "metadata": {
    "execution": {
     "iopub.execute_input": "2021-10-07T16:36:42.203776Z",
     "iopub.status.busy": "2021-10-07T16:36:42.203100Z",
     "iopub.status.idle": "2021-10-07T16:36:44.858670Z",
     "shell.execute_reply": "2021-10-07T16:36:44.857532Z",
     "shell.execute_reply.started": "2021-10-07T16:36:42.203737Z"
    }
   },
   "outputs": [
    {
     "data": {
      "text/plain": [
       "array([<AxesSubplot:title={'center':'negative'}>,\n",
       "       <AxesSubplot:title={'center':'positive'}>], dtype=object)"
      ]
     },
     "execution_count": 12,
     "metadata": {},
     "output_type": "execute_result"
    },
    {
     "data": {
      "image/png": "[encoded data removed]",
      "text/plain": [
       "<Figure size 864x288 with 2 Axes>"
      ]
     },
     "metadata": {
      "needs_background": "light"
     },
     "output_type": "display_data"
    }
   ],
   "source": [
    "\n",
    "df['totalwords'] = df['review'].str.split().str.len()\n",
    "df.hist(column='totalwords',by='sentiment',bins=70,figsize=(12,4))"
   ]
  },
  {
   "cell_type": "code",
   "execution_count": 14,
   "metadata": {
    "execution": {
     "iopub.execute_input": "2021-10-07T16:36:52.712475Z",
     "iopub.status.busy": "2021-10-07T16:36:52.711949Z",
     "iopub.status.idle": "2021-10-07T16:36:52.716362Z",
     "shell.execute_reply": "2021-10-07T16:36:52.715563Z",
     "shell.execute_reply.started": "2021-10-07T16:36:52.712442Z"
    }
   },
   "outputs": [],
   "source": [
    "X = df[\"review\"]\n",
    "y = df[\"sentiment\"]"
   ]
  },
  {
   "cell_type": "code",
   "execution_count": 15,
   "metadata": {
    "execution": {
     "iopub.execute_input": "2021-10-07T16:36:53.985089Z",
     "iopub.status.busy": "2021-10-07T16:36:53.984748Z",
     "iopub.status.idle": "2021-10-07T16:36:53.991825Z",
     "shell.execute_reply": "2021-10-07T16:36:53.990800Z",
     "shell.execute_reply.started": "2021-10-07T16:36:53.985059Z"
    }
   },
   "outputs": [
    {
     "data": {
      "text/plain": [
       "((50000,), (50000,))"
      ]
     },
     "execution_count": 15,
     "metadata": {},
     "output_type": "execute_result"
    }
   ],
   "source": [
    "X.shape, y.shape"
   ]
  },
  {
   "cell_type": "code",
   "execution_count": 32,
   "metadata": {
    "execution": {
     "iopub.execute_input": "2021-10-07T17:05:19.834733Z",
     "iopub.status.busy": "2021-10-07T17:05:19.834379Z",
     "iopub.status.idle": "2021-10-07T17:07:42.713759Z",
     "shell.execute_reply": "2021-10-07T17:07:42.712693Z",
     "shell.execute_reply.started": "2021-10-07T17:05:19.834703Z"
    }
   },
   "outputs": [],
   "source": [
    "for i in range(X.shape[0]):\n",
    "#     df['review'][i] = re.sub('[^A-Za-z]', '', df['review'][i])\n",
    "     # Escaping HTML characters\n",
    "    df['review'][i] = html.unescape(df['review'][i])\n",
    "    # Removal of URLs\n",
    "    df['review'][i] = re.sub(r\"http\\S+\", \"\", df['review'][i])\n",
    "    # Removal of mentions\n",
    "    df['review'][i] = re.sub(\"@[^\\s]*\", \"\", df['review'][i])\n",
    "    # Removal of hashtags\n",
    "    df['review'][i] = re.sub(\"#[^\\s]*\", \"\", df['review'][i])\n",
    "    # Removal of numbers\n",
    "    df['review'][i] = re.sub('[0-9]*[+-:]*[0-9]+', '', df['review'][i])\n",
    "    # Convert to lowercase\n",
    "    df['review'][i] = df['review'][i].lower()"
   ]
  },
  {
   "cell_type": "code",
   "execution_count": 35,
   "metadata": {
    "execution": {
     "iopub.execute_input": "2021-10-07T17:11:52.781055Z",
     "iopub.status.busy": "2021-10-07T17:11:52.780663Z",
     "iopub.status.idle": "2021-10-07T17:12:20.543663Z",
     "shell.execute_reply": "2021-10-07T17:12:20.542617Z",
     "shell.execute_reply.started": "2021-10-07T17:11:52.781024Z"
    }
   },
   "outputs": [],
   "source": [
    "for i in range(X.shape[0]):\n",
    "    df['review'][i] = re.sub('[^A-Za-z]', ' ', df['review'][i])"
   ]
  },
  {
   "cell_type": "code",
   "execution_count": 36,
   "metadata": {
    "execution": {
     "iopub.execute_input": "2021-10-07T17:12:24.163554Z",
     "iopub.status.busy": "2021-10-07T17:12:24.163148Z",
     "iopub.status.idle": "2021-10-07T17:12:24.172717Z",
     "shell.execute_reply": "2021-10-07T17:12:24.171615Z",
     "shell.execute_reply.started": "2021-10-07T17:12:24.163521Z"
    }
   },
   "outputs": [
    {
     "data": {
      "text/plain": [
       "0        one of the other reviewers has mentioned that ...\n",
       "1        a wonderful little production   br    br   the...\n",
       "2        i thought this was a wonderful way to spend ti...\n",
       "3        basically there s a family where a little boy ...\n",
       "4        petter mattei s  love in the time of money  is...\n",
       "                               ...                        \n",
       "49995    i thought this movie did a down right good job...\n",
       "49996    bad plot  bad dialogue  bad acting  idiotic di...\n",
       "49997    i am a catholic taught in parochial elementary...\n",
       "49998    i m going to have to disagree with the previou...\n",
       "49999    no one expects the star trek movies to be high...\n",
       "Name: review, Length: 50000, dtype: object"
      ]
     },
     "execution_count": 36,
     "metadata": {},
     "output_type": "execute_result"
    }
   ],
   "source": [
    "df['review']"
   ]
  },
  {
   "cell_type": "code",
   "execution_count": 37,
   "metadata": {
    "execution": {
     "iopub.execute_input": "2021-10-07T17:12:27.118393Z",
     "iopub.status.busy": "2021-10-07T17:12:27.117989Z",
     "iopub.status.idle": "2021-10-07T17:12:27.125677Z",
     "shell.execute_reply": "2021-10-07T17:12:27.124420Z",
     "shell.execute_reply.started": "2021-10-07T17:12:27.118355Z"
    }
   },
   "outputs": [
    {
     "data": {
      "text/plain": [
       "'stranded in space    mstk version   a very not good tv movie pilot  for a never to be made series  in which an astronaut finds himself trapped on earth s evil twin  having a planet of identical size and mass orbiting in the same plane as the earth  but on the opposite side of the sun  is a well worn sf chestnut   the idea is over  years old  having been invented by the ancient greeks  in this version the counter world is run as an orwellian  perfect  society  where  for totally inexplicable reasons  everyone speaks english and drives late model american cars  after escaping from his prisonlike hospital  the disruptive earthian is chased around not southern california by tv and bad movie stalwart cameron mitchell who  like his minions  wears double breasted suits and black polo neck jumpers   a stylishly evil combination which i fully intend to adopt if ever i become a totalitarian overlord  our hero escapes several times before ending up gazing at the alien world s three moons and wondering aloud if he will ever get home   thus setting up one of those man alone in a hostile world making a new friend each week but moving on at the end of every episode shows so beloved of the industry in the s and s   the fugitive    the incredible hulk    the littlest hobo  etc   the curiously weirdest bit though was the title sequence  somewhere between  stranded in space  first airing  under the title  the stranger   in  and the mstk version in  it somehow acquired some footage from the  movie  prisoners of the lost universe   so in  the opening credits for  stranded in space  run under a few shots of three people falling into a matter transmitter and vanishing  it s a sequence that has nothing to do   even thematically   with anything that is going to follow  br    br   just to add to the nerdy b movie confusion  one of the actors in this nailed on footage  kay lenz  later appeared in a  movie called  trapped in space   knowing this fact could never save your life but it might score you very big points and admiring looks from fellow trash movie enthusiasts   if you could ever work out a way of manoeuvring the conversation round to the point where you could casually slip it in without looking like a total idiot   '"
      ]
     },
     "execution_count": 37,
     "metadata": {},
     "output_type": "execute_result"
    }
   ],
   "source": [
    "df['review'][2000]"
   ]
  },
  {
   "cell_type": "code",
   "execution_count": 18,
   "metadata": {
    "execution": {
     "iopub.execute_input": "2021-10-07T16:41:57.006028Z",
     "iopub.status.busy": "2021-10-07T16:41:57.005661Z",
     "iopub.status.idle": "2021-10-07T16:41:57.803439Z",
     "shell.execute_reply": "2021-10-07T16:41:57.802505Z",
     "shell.execute_reply.started": "2021-10-07T16:41:57.005997Z"
    }
   },
   "outputs": [],
   "source": [
    "import nltk"
   ]
  },
  {
   "cell_type": "code",
   "execution_count": 38,
   "metadata": {
    "execution": {
     "iopub.execute_input": "2021-10-07T17:12:40.595103Z",
     "iopub.status.busy": "2021-10-07T17:12:40.594762Z",
     "iopub.status.idle": "2021-10-07T17:13:26.060787Z",
     "shell.execute_reply": "2021-10-07T17:13:26.059732Z",
     "shell.execute_reply.started": "2021-10-07T17:12:40.595074Z"
    }
   },
   "outputs": [],
   "source": [
    "#tokenization\n",
    "\n",
    "df['tokenized_text'] = df.apply(lambda row: nltk.word_tokenize(row['review']), axis=1)"
   ]
  },
  {
   "cell_type": "code",
   "execution_count": 39,
   "metadata": {
    "execution": {
     "iopub.execute_input": "2021-10-07T17:13:37.338488Z",
     "iopub.status.busy": "2021-10-07T17:13:37.338106Z",
     "iopub.status.idle": "2021-10-07T17:13:37.366937Z",
     "shell.execute_reply": "2021-10-07T17:13:37.365957Z",
     "shell.execute_reply.started": "2021-10-07T17:13:37.338459Z"
    }
   },
   "outputs": [
    {
     "data": {
      "text/html": [
       "<div>\n",
       "<style scoped>\n",
       "    .dataframe tbody tr th:only-of-type {\n",
       "        vertical-align: middle;\n",
       "    }\n",
       "\n",
       "    .dataframe tbody tr th {\n",
       "        vertical-align: top;\n",
       "    }\n",
       "\n",
       "    .dataframe thead th {\n",
       "        text-align: right;\n",
       "    }\n",
       "</style>\n",
       "<table border=\"1\" class=\"dataframe\">\n",
       "  <thead>\n",
       "    <tr style=\"text-align: right;\">\n",
       "      <th></th>\n",
       "      <th>review</th>\n",
       "      <th>sentiment</th>\n",
       "      <th>tokenized_text</th>\n",
       "    </tr>\n",
       "  </thead>\n",
       "  <tbody>\n",
       "    <tr>\n",
       "      <th>0</th>\n",
       "      <td>one of the other reviewers has mentioned that ...</td>\n",
       "      <td>positive</td>\n",
       "      <td>[one, of, the, other, reviewers, has, mentione...</td>\n",
       "    </tr>\n",
       "    <tr>\n",
       "      <th>1</th>\n",
       "      <td>a wonderful little production   br    br   the...</td>\n",
       "      <td>positive</td>\n",
       "      <td>[a, wonderful, little, production, br, br, the...</td>\n",
       "    </tr>\n",
       "    <tr>\n",
       "      <th>2</th>\n",
       "      <td>i thought this was a wonderful way to spend ti...</td>\n",
       "      <td>positive</td>\n",
       "      <td>[i, thought, this, was, a, wonderful, way, to,...</td>\n",
       "    </tr>\n",
       "    <tr>\n",
       "      <th>3</th>\n",
       "      <td>basically there s a family where a little boy ...</td>\n",
       "      <td>negative</td>\n",
       "      <td>[basically, there, s, a, family, where, a, lit...</td>\n",
       "    </tr>\n",
       "    <tr>\n",
       "      <th>4</th>\n",
       "      <td>petter mattei s  love in the time of money  is...</td>\n",
       "      <td>positive</td>\n",
       "      <td>[petter, mattei, s, love, in, the, time, of, m...</td>\n",
       "    </tr>\n",
       "    <tr>\n",
       "      <th>...</th>\n",
       "      <td>...</td>\n",
       "      <td>...</td>\n",
       "      <td>...</td>\n",
       "    </tr>\n",
       "    <tr>\n",
       "      <th>49995</th>\n",
       "      <td>i thought this movie did a down right good job...</td>\n",
       "      <td>positive</td>\n",
       "      <td>[i, thought, this, movie, did, a, down, right,...</td>\n",
       "    </tr>\n",
       "    <tr>\n",
       "      <th>49996</th>\n",
       "      <td>bad plot  bad dialogue  bad acting  idiotic di...</td>\n",
       "      <td>negative</td>\n",
       "      <td>[bad, plot, bad, dialogue, bad, acting, idioti...</td>\n",
       "    </tr>\n",
       "    <tr>\n",
       "      <th>49997</th>\n",
       "      <td>i am a catholic taught in parochial elementary...</td>\n",
       "      <td>negative</td>\n",
       "      <td>[i, am, a, catholic, taught, in, parochial, el...</td>\n",
       "    </tr>\n",
       "    <tr>\n",
       "      <th>49998</th>\n",
       "      <td>i m going to have to disagree with the previou...</td>\n",
       "      <td>negative</td>\n",
       "      <td>[i, m, going, to, have, to, disagree, with, th...</td>\n",
       "    </tr>\n",
       "    <tr>\n",
       "      <th>49999</th>\n",
       "      <td>no one expects the star trek movies to be high...</td>\n",
       "      <td>negative</td>\n",
       "      <td>[no, one, expects, the, star, trek, movies, to...</td>\n",
       "    </tr>\n",
       "  </tbody>\n",
       "</table>\n",
       "<p>50000 rows × 3 columns</p>\n",
       "</div>"
      ],
      "text/plain": [
       "                                                  review sentiment  \\\n",
       "0      one of the other reviewers has mentioned that ...  positive   \n",
       "1      a wonderful little production   br    br   the...  positive   \n",
       "2      i thought this was a wonderful way to spend ti...  positive   \n",
       "3      basically there s a family where a little boy ...  negative   \n",
       "4      petter mattei s  love in the time of money  is...  positive   \n",
       "...                                                  ...       ...   \n",
       "49995  i thought this movie did a down right good job...  positive   \n",
       "49996  bad plot  bad dialogue  bad acting  idiotic di...  negative   \n",
       "49997  i am a catholic taught in parochial elementary...  negative   \n",
       "49998  i m going to have to disagree with the previou...  negative   \n",
       "49999  no one expects the star trek movies to be high...  negative   \n",
       "\n",
       "                                          tokenized_text  \n",
       "0      [one, of, the, other, reviewers, has, mentione...  \n",
       "1      [a, wonderful, little, production, br, br, the...  \n",
       "2      [i, thought, this, was, a, wonderful, way, to,...  \n",
       "3      [basically, there, s, a, family, where, a, lit...  \n",
       "4      [petter, mattei, s, love, in, the, time, of, m...  \n",
       "...                                                  ...  \n",
       "49995  [i, thought, this, movie, did, a, down, right,...  \n",
       "49996  [bad, plot, bad, dialogue, bad, acting, idioti...  \n",
       "49997  [i, am, a, catholic, taught, in, parochial, el...  \n",
       "49998  [i, m, going, to, have, to, disagree, with, th...  \n",
       "49999  [no, one, expects, the, star, trek, movies, to...  \n",
       "\n",
       "[50000 rows x 3 columns]"
      ]
     },
     "execution_count": 39,
     "metadata": {},
     "output_type": "execute_result"
    }
   ],
   "source": [
    "df"
   ]
  },
  {
   "cell_type": "code",
   "execution_count": 40,
   "metadata": {
    "execution": {
     "iopub.execute_input": "2021-10-07T17:13:40.947970Z",
     "iopub.status.busy": "2021-10-07T17:13:40.947598Z",
     "iopub.status.idle": "2021-10-07T17:14:02.444089Z",
     "shell.execute_reply": "2021-10-07T17:14:02.443028Z",
     "shell.execute_reply.started": "2021-10-07T17:13:40.947939Z"
    }
   },
   "outputs": [],
   "source": [
    "# removing stopwrods\n",
    "\n",
    "stopwords = nltk.corpus.stopwords.words(\"english\")\n",
    "\n",
    "def stopwords_remove(text):\n",
    "    text_cleaned = [word for word in text if word not in stopwords]\n",
    "    return text_cleaned\n",
    "\n",
    "df[\"tokenized_text\"] = df[\"tokenized_text\"].apply(lambda x: stopwords_remove(x))"
   ]
  },
  {
   "cell_type": "code",
   "execution_count": 41,
   "metadata": {
    "execution": {
     "iopub.execute_input": "2021-10-07T17:15:23.545085Z",
     "iopub.status.busy": "2021-10-07T17:15:23.544749Z",
     "iopub.status.idle": "2021-10-07T17:15:23.572596Z",
     "shell.execute_reply": "2021-10-07T17:15:23.571507Z",
     "shell.execute_reply.started": "2021-10-07T17:15:23.545058Z"
    }
   },
   "outputs": [
    {
     "data": {
      "text/html": [
       "<div>\n",
       "<style scoped>\n",
       "    .dataframe tbody tr th:only-of-type {\n",
       "        vertical-align: middle;\n",
       "    }\n",
       "\n",
       "    .dataframe tbody tr th {\n",
       "        vertical-align: top;\n",
       "    }\n",
       "\n",
       "    .dataframe thead th {\n",
       "        text-align: right;\n",
       "    }\n",
       "</style>\n",
       "<table border=\"1\" class=\"dataframe\">\n",
       "  <thead>\n",
       "    <tr style=\"text-align: right;\">\n",
       "      <th></th>\n",
       "      <th>review</th>\n",
       "      <th>sentiment</th>\n",
       "      <th>tokenized_text</th>\n",
       "    </tr>\n",
       "  </thead>\n",
       "  <tbody>\n",
       "    <tr>\n",
       "      <th>0</th>\n",
       "      <td>one of the other reviewers has mentioned that ...</td>\n",
       "      <td>positive</td>\n",
       "      <td>[one, reviewers, mentioned, watching, oz, epis...</td>\n",
       "    </tr>\n",
       "    <tr>\n",
       "      <th>1</th>\n",
       "      <td>a wonderful little production   br    br   the...</td>\n",
       "      <td>positive</td>\n",
       "      <td>[wonderful, little, production, br, br, filmin...</td>\n",
       "    </tr>\n",
       "    <tr>\n",
       "      <th>2</th>\n",
       "      <td>i thought this was a wonderful way to spend ti...</td>\n",
       "      <td>positive</td>\n",
       "      <td>[thought, wonderful, way, spend, time, hot, su...</td>\n",
       "    </tr>\n",
       "    <tr>\n",
       "      <th>3</th>\n",
       "      <td>basically there s a family where a little boy ...</td>\n",
       "      <td>negative</td>\n",
       "      <td>[basically, family, little, boy, jake, thinks,...</td>\n",
       "    </tr>\n",
       "    <tr>\n",
       "      <th>4</th>\n",
       "      <td>petter mattei s  love in the time of money  is...</td>\n",
       "      <td>positive</td>\n",
       "      <td>[petter, mattei, love, time, money, visually, ...</td>\n",
       "    </tr>\n",
       "    <tr>\n",
       "      <th>...</th>\n",
       "      <td>...</td>\n",
       "      <td>...</td>\n",
       "      <td>...</td>\n",
       "    </tr>\n",
       "    <tr>\n",
       "      <th>49995</th>\n",
       "      <td>i thought this movie did a down right good job...</td>\n",
       "      <td>positive</td>\n",
       "      <td>[thought, movie, right, good, job, creative, o...</td>\n",
       "    </tr>\n",
       "    <tr>\n",
       "      <th>49996</th>\n",
       "      <td>bad plot  bad dialogue  bad acting  idiotic di...</td>\n",
       "      <td>negative</td>\n",
       "      <td>[bad, plot, bad, dialogue, bad, acting, idioti...</td>\n",
       "    </tr>\n",
       "    <tr>\n",
       "      <th>49997</th>\n",
       "      <td>i am a catholic taught in parochial elementary...</td>\n",
       "      <td>negative</td>\n",
       "      <td>[catholic, taught, parochial, elementary, scho...</td>\n",
       "    </tr>\n",
       "    <tr>\n",
       "      <th>49998</th>\n",
       "      <td>i m going to have to disagree with the previou...</td>\n",
       "      <td>negative</td>\n",
       "      <td>[going, disagree, previous, comment, side, mal...</td>\n",
       "    </tr>\n",
       "    <tr>\n",
       "      <th>49999</th>\n",
       "      <td>no one expects the star trek movies to be high...</td>\n",
       "      <td>negative</td>\n",
       "      <td>[one, expects, star, trek, movies, high, art, ...</td>\n",
       "    </tr>\n",
       "  </tbody>\n",
       "</table>\n",
       "<p>50000 rows × 3 columns</p>\n",
       "</div>"
      ],
      "text/plain": [
       "                                                  review sentiment  \\\n",
       "0      one of the other reviewers has mentioned that ...  positive   \n",
       "1      a wonderful little production   br    br   the...  positive   \n",
       "2      i thought this was a wonderful way to spend ti...  positive   \n",
       "3      basically there s a family where a little boy ...  negative   \n",
       "4      petter mattei s  love in the time of money  is...  positive   \n",
       "...                                                  ...       ...   \n",
       "49995  i thought this movie did a down right good job...  positive   \n",
       "49996  bad plot  bad dialogue  bad acting  idiotic di...  negative   \n",
       "49997  i am a catholic taught in parochial elementary...  negative   \n",
       "49998  i m going to have to disagree with the previou...  negative   \n",
       "49999  no one expects the star trek movies to be high...  negative   \n",
       "\n",
       "                                          tokenized_text  \n",
       "0      [one, reviewers, mentioned, watching, oz, epis...  \n",
       "1      [wonderful, little, production, br, br, filmin...  \n",
       "2      [thought, wonderful, way, spend, time, hot, su...  \n",
       "3      [basically, family, little, boy, jake, thinks,...  \n",
       "4      [petter, mattei, love, time, money, visually, ...  \n",
       "...                                                  ...  \n",
       "49995  [thought, movie, right, good, job, creative, o...  \n",
       "49996  [bad, plot, bad, dialogue, bad, acting, idioti...  \n",
       "49997  [catholic, taught, parochial, elementary, scho...  \n",
       "49998  [going, disagree, previous, comment, side, mal...  \n",
       "49999  [one, expects, star, trek, movies, high, art, ...  \n",
       "\n",
       "[50000 rows x 3 columns]"
      ]
     },
     "execution_count": 41,
     "metadata": {},
     "output_type": "execute_result"
    }
   ],
   "source": [
    "df"
   ]
  },
  {
   "cell_type": "code",
   "execution_count": 42,
   "metadata": {
    "execution": {
     "iopub.execute_input": "2021-10-07T17:15:27.286722Z",
     "iopub.status.busy": "2021-10-07T17:15:27.286381Z",
     "iopub.status.idle": "2021-10-07T17:16:41.386579Z",
     "shell.execute_reply": "2021-10-07T17:16:41.385209Z",
     "shell.execute_reply.started": "2021-10-07T17:15:27.286693Z"
    }
   },
   "outputs": [],
   "source": [
    "import pandas as pd\n",
    "from nltk.stem.snowball import SnowballStemmer\n",
    "\n",
    "stemmer = SnowballStemmer(\"english\")\n",
    "\n",
    "df['stemmed'] = df['tokenized_text'].apply(lambda x: [stemmer.stem(y) for y in x])"
   ]
  },
  {
   "cell_type": "code",
   "execution_count": 43,
   "metadata": {
    "execution": {
     "iopub.execute_input": "2021-10-07T17:16:51.391489Z",
     "iopub.status.busy": "2021-10-07T17:16:51.391136Z",
     "iopub.status.idle": "2021-10-07T17:16:51.430145Z",
     "shell.execute_reply": "2021-10-07T17:16:51.429236Z",
     "shell.execute_reply.started": "2021-10-07T17:16:51.391458Z"
    }
   },
   "outputs": [
    {
     "data": {
      "text/html": [
       "<div>\n",
       "<style scoped>\n",
       "    .dataframe tbody tr th:only-of-type {\n",
       "        vertical-align: middle;\n",
       "    }\n",
       "\n",
       "    .dataframe tbody tr th {\n",
       "        vertical-align: top;\n",
       "    }\n",
       "\n",
       "    .dataframe thead th {\n",
       "        text-align: right;\n",
       "    }\n",
       "</style>\n",
       "<table border=\"1\" class=\"dataframe\">\n",
       "  <thead>\n",
       "    <tr style=\"text-align: right;\">\n",
       "      <th></th>\n",
       "      <th>review</th>\n",
       "      <th>sentiment</th>\n",
       "      <th>tokenized_text</th>\n",
       "      <th>stemmed</th>\n",
       "    </tr>\n",
       "  </thead>\n",
       "  <tbody>\n",
       "    <tr>\n",
       "      <th>0</th>\n",
       "      <td>one of the other reviewers has mentioned that ...</td>\n",
       "      <td>positive</td>\n",
       "      <td>[one, reviewers, mentioned, watching, oz, epis...</td>\n",
       "      <td>[one, review, mention, watch, oz, episod, hook...</td>\n",
       "    </tr>\n",
       "    <tr>\n",
       "      <th>1</th>\n",
       "      <td>a wonderful little production   br    br   the...</td>\n",
       "      <td>positive</td>\n",
       "      <td>[wonderful, little, production, br, br, filmin...</td>\n",
       "      <td>[wonder, littl, product, br, br, film, techniq...</td>\n",
       "    </tr>\n",
       "    <tr>\n",
       "      <th>2</th>\n",
       "      <td>i thought this was a wonderful way to spend ti...</td>\n",
       "      <td>positive</td>\n",
       "      <td>[thought, wonderful, way, spend, time, hot, su...</td>\n",
       "      <td>[thought, wonder, way, spend, time, hot, summe...</td>\n",
       "    </tr>\n",
       "    <tr>\n",
       "      <th>3</th>\n",
       "      <td>basically there s a family where a little boy ...</td>\n",
       "      <td>negative</td>\n",
       "      <td>[basically, family, little, boy, jake, thinks,...</td>\n",
       "      <td>[basic, famili, littl, boy, jake, think, zombi...</td>\n",
       "    </tr>\n",
       "    <tr>\n",
       "      <th>4</th>\n",
       "      <td>petter mattei s  love in the time of money  is...</td>\n",
       "      <td>positive</td>\n",
       "      <td>[petter, mattei, love, time, money, visually, ...</td>\n",
       "      <td>[petter, mattei, love, time, money, visual, st...</td>\n",
       "    </tr>\n",
       "    <tr>\n",
       "      <th>...</th>\n",
       "      <td>...</td>\n",
       "      <td>...</td>\n",
       "      <td>...</td>\n",
       "      <td>...</td>\n",
       "    </tr>\n",
       "    <tr>\n",
       "      <th>49995</th>\n",
       "      <td>i thought this movie did a down right good job...</td>\n",
       "      <td>positive</td>\n",
       "      <td>[thought, movie, right, good, job, creative, o...</td>\n",
       "      <td>[thought, movi, right, good, job, creativ, ori...</td>\n",
       "    </tr>\n",
       "    <tr>\n",
       "      <th>49996</th>\n",
       "      <td>bad plot  bad dialogue  bad acting  idiotic di...</td>\n",
       "      <td>negative</td>\n",
       "      <td>[bad, plot, bad, dialogue, bad, acting, idioti...</td>\n",
       "      <td>[bad, plot, bad, dialogu, bad, act, idiot, dir...</td>\n",
       "    </tr>\n",
       "    <tr>\n",
       "      <th>49997</th>\n",
       "      <td>i am a catholic taught in parochial elementary...</td>\n",
       "      <td>negative</td>\n",
       "      <td>[catholic, taught, parochial, elementary, scho...</td>\n",
       "      <td>[cathol, taught, parochi, elementari, school, ...</td>\n",
       "    </tr>\n",
       "    <tr>\n",
       "      <th>49998</th>\n",
       "      <td>i m going to have to disagree with the previou...</td>\n",
       "      <td>negative</td>\n",
       "      <td>[going, disagree, previous, comment, side, mal...</td>\n",
       "      <td>[go, disagre, previous, comment, side, maltin,...</td>\n",
       "    </tr>\n",
       "    <tr>\n",
       "      <th>49999</th>\n",
       "      <td>no one expects the star trek movies to be high...</td>\n",
       "      <td>negative</td>\n",
       "      <td>[one, expects, star, trek, movies, high, art, ...</td>\n",
       "      <td>[one, expect, star, trek, movi, high, art, fan...</td>\n",
       "    </tr>\n",
       "  </tbody>\n",
       "</table>\n",
       "<p>50000 rows × 4 columns</p>\n",
       "</div>"
      ],
      "text/plain": [
       "                                                  review sentiment  \\\n",
       "0      one of the other reviewers has mentioned that ...  positive   \n",
       "1      a wonderful little production   br    br   the...  positive   \n",
       "2      i thought this was a wonderful way to spend ti...  positive   \n",
       "3      basically there s a family where a little boy ...  negative   \n",
       "4      petter mattei s  love in the time of money  is...  positive   \n",
       "...                                                  ...       ...   \n",
       "49995  i thought this movie did a down right good job...  positive   \n",
       "49996  bad plot  bad dialogue  bad acting  idiotic di...  negative   \n",
       "49997  i am a catholic taught in parochial elementary...  negative   \n",
       "49998  i m going to have to disagree with the previou...  negative   \n",
       "49999  no one expects the star trek movies to be high...  negative   \n",
       "\n",
       "                                          tokenized_text  \\\n",
       "0      [one, reviewers, mentioned, watching, oz, epis...   \n",
       "1      [wonderful, little, production, br, br, filmin...   \n",
       "2      [thought, wonderful, way, spend, time, hot, su...   \n",
       "3      [basically, family, little, boy, jake, thinks,...   \n",
       "4      [petter, mattei, love, time, money, visually, ...   \n",
       "...                                                  ...   \n",
       "49995  [thought, movie, right, good, job, creative, o...   \n",
       "49996  [bad, plot, bad, dialogue, bad, acting, idioti...   \n",
       "49997  [catholic, taught, parochial, elementary, scho...   \n",
       "49998  [going, disagree, previous, comment, side, mal...   \n",
       "49999  [one, expects, star, trek, movies, high, art, ...   \n",
       "\n",
       "                                                 stemmed  \n",
       "0      [one, review, mention, watch, oz, episod, hook...  \n",
       "1      [wonder, littl, product, br, br, film, techniq...  \n",
       "2      [thought, wonder, way, spend, time, hot, summe...  \n",
       "3      [basic, famili, littl, boy, jake, think, zombi...  \n",
       "4      [petter, mattei, love, time, money, visual, st...  \n",
       "...                                                  ...  \n",
       "49995  [thought, movi, right, good, job, creativ, ori...  \n",
       "49996  [bad, plot, bad, dialogu, bad, act, idiot, dir...  \n",
       "49997  [cathol, taught, parochi, elementari, school, ...  \n",
       "49998  [go, disagre, previous, comment, side, maltin,...  \n",
       "49999  [one, expect, star, trek, movi, high, art, fan...  \n",
       "\n",
       "[50000 rows x 4 columns]"
      ]
     },
     "execution_count": 43,
     "metadata": {},
     "output_type": "execute_result"
    }
   ],
   "source": [
    "df"
   ]
  },
  {
   "cell_type": "code",
   "execution_count": 44,
   "metadata": {
    "execution": {
     "iopub.execute_input": "2021-10-07T17:17:06.922751Z",
     "iopub.status.busy": "2021-10-07T17:17:06.922401Z",
     "iopub.status.idle": "2021-10-07T17:17:12.236558Z",
     "shell.execute_reply": "2021-10-07T17:17:12.235516Z",
     "shell.execute_reply.started": "2021-10-07T17:17:06.922723Z"
    }
   },
   "outputs": [],
   "source": [
    "input2_corrected = [\" \".join(x) for x in df['stemmed']]\n",
    "\n",
    "from sklearn.feature_extraction.text import TfidfVectorizer \n",
    "tfidf_vectorizer=TfidfVectorizer(use_idf=True) \n",
    "tfidf_vectorizer_vectors=tfidf_vectorizer.fit_transform(input2_corrected)"
   ]
  },
  {
   "cell_type": "code",
   "execution_count": 45,
   "metadata": {
    "execution": {
     "iopub.execute_input": "2021-10-07T17:17:17.132080Z",
     "iopub.status.busy": "2021-10-07T17:17:17.131734Z",
     "iopub.status.idle": "2021-10-07T17:17:17.172633Z",
     "shell.execute_reply": "2021-10-07T17:17:17.171663Z",
     "shell.execute_reply.started": "2021-10-07T17:17:17.132051Z"
    }
   },
   "outputs": [
    {
     "data": {
      "text/html": [
       "<div>\n",
       "<style scoped>\n",
       "    .dataframe tbody tr th:only-of-type {\n",
       "        vertical-align: middle;\n",
       "    }\n",
       "\n",
       "    .dataframe tbody tr th {\n",
       "        vertical-align: top;\n",
       "    }\n",
       "\n",
       "    .dataframe thead th {\n",
       "        text-align: right;\n",
       "    }\n",
       "</style>\n",
       "<table border=\"1\" class=\"dataframe\">\n",
       "  <thead>\n",
       "    <tr style=\"text-align: right;\">\n",
       "      <th></th>\n",
       "      <th>review</th>\n",
       "      <th>sentiment</th>\n",
       "      <th>tokenized_text</th>\n",
       "      <th>stemmed</th>\n",
       "    </tr>\n",
       "  </thead>\n",
       "  <tbody>\n",
       "    <tr>\n",
       "      <th>0</th>\n",
       "      <td>one of the other reviewers has mentioned that ...</td>\n",
       "      <td>positive</td>\n",
       "      <td>[one, reviewers, mentioned, watching, oz, epis...</td>\n",
       "      <td>[one, review, mention, watch, oz, episod, hook...</td>\n",
       "    </tr>\n",
       "    <tr>\n",
       "      <th>1</th>\n",
       "      <td>a wonderful little production   br    br   the...</td>\n",
       "      <td>positive</td>\n",
       "      <td>[wonderful, little, production, br, br, filmin...</td>\n",
       "      <td>[wonder, littl, product, br, br, film, techniq...</td>\n",
       "    </tr>\n",
       "    <tr>\n",
       "      <th>2</th>\n",
       "      <td>i thought this was a wonderful way to spend ti...</td>\n",
       "      <td>positive</td>\n",
       "      <td>[thought, wonderful, way, spend, time, hot, su...</td>\n",
       "      <td>[thought, wonder, way, spend, time, hot, summe...</td>\n",
       "    </tr>\n",
       "    <tr>\n",
       "      <th>3</th>\n",
       "      <td>basically there s a family where a little boy ...</td>\n",
       "      <td>negative</td>\n",
       "      <td>[basically, family, little, boy, jake, thinks,...</td>\n",
       "      <td>[basic, famili, littl, boy, jake, think, zombi...</td>\n",
       "    </tr>\n",
       "    <tr>\n",
       "      <th>4</th>\n",
       "      <td>petter mattei s  love in the time of money  is...</td>\n",
       "      <td>positive</td>\n",
       "      <td>[petter, mattei, love, time, money, visually, ...</td>\n",
       "      <td>[petter, mattei, love, time, money, visual, st...</td>\n",
       "    </tr>\n",
       "    <tr>\n",
       "      <th>...</th>\n",
       "      <td>...</td>\n",
       "      <td>...</td>\n",
       "      <td>...</td>\n",
       "      <td>...</td>\n",
       "    </tr>\n",
       "    <tr>\n",
       "      <th>49995</th>\n",
       "      <td>i thought this movie did a down right good job...</td>\n",
       "      <td>positive</td>\n",
       "      <td>[thought, movie, right, good, job, creative, o...</td>\n",
       "      <td>[thought, movi, right, good, job, creativ, ori...</td>\n",
       "    </tr>\n",
       "    <tr>\n",
       "      <th>49996</th>\n",
       "      <td>bad plot  bad dialogue  bad acting  idiotic di...</td>\n",
       "      <td>negative</td>\n",
       "      <td>[bad, plot, bad, dialogue, bad, acting, idioti...</td>\n",
       "      <td>[bad, plot, bad, dialogu, bad, act, idiot, dir...</td>\n",
       "    </tr>\n",
       "    <tr>\n",
       "      <th>49997</th>\n",
       "      <td>i am a catholic taught in parochial elementary...</td>\n",
       "      <td>negative</td>\n",
       "      <td>[catholic, taught, parochial, elementary, scho...</td>\n",
       "      <td>[cathol, taught, parochi, elementari, school, ...</td>\n",
       "    </tr>\n",
       "    <tr>\n",
       "      <th>49998</th>\n",
       "      <td>i m going to have to disagree with the previou...</td>\n",
       "      <td>negative</td>\n",
       "      <td>[going, disagree, previous, comment, side, mal...</td>\n",
       "      <td>[go, disagre, previous, comment, side, maltin,...</td>\n",
       "    </tr>\n",
       "    <tr>\n",
       "      <th>49999</th>\n",
       "      <td>no one expects the star trek movies to be high...</td>\n",
       "      <td>negative</td>\n",
       "      <td>[one, expects, star, trek, movies, high, art, ...</td>\n",
       "      <td>[one, expect, star, trek, movi, high, art, fan...</td>\n",
       "    </tr>\n",
       "  </tbody>\n",
       "</table>\n",
       "<p>50000 rows × 4 columns</p>\n",
       "</div>"
      ],
      "text/plain": [
       "                                                  review sentiment  \\\n",
       "0      one of the other reviewers has mentioned that ...  positive   \n",
       "1      a wonderful little production   br    br   the...  positive   \n",
       "2      i thought this was a wonderful way to spend ti...  positive   \n",
       "3      basically there s a family where a little boy ...  negative   \n",
       "4      petter mattei s  love in the time of money  is...  positive   \n",
       "...                                                  ...       ...   \n",
       "49995  i thought this movie did a down right good job...  positive   \n",
       "49996  bad plot  bad dialogue  bad acting  idiotic di...  negative   \n",
       "49997  i am a catholic taught in parochial elementary...  negative   \n",
       "49998  i m going to have to disagree with the previou...  negative   \n",
       "49999  no one expects the star trek movies to be high...  negative   \n",
       "\n",
       "                                          tokenized_text  \\\n",
       "0      [one, reviewers, mentioned, watching, oz, epis...   \n",
       "1      [wonderful, little, production, br, br, filmin...   \n",
       "2      [thought, wonderful, way, spend, time, hot, su...   \n",
       "3      [basically, family, little, boy, jake, thinks,...   \n",
       "4      [petter, mattei, love, time, money, visually, ...   \n",
       "...                                                  ...   \n",
       "49995  [thought, movie, right, good, job, creative, o...   \n",
       "49996  [bad, plot, bad, dialogue, bad, acting, idioti...   \n",
       "49997  [catholic, taught, parochial, elementary, scho...   \n",
       "49998  [going, disagree, previous, comment, side, mal...   \n",
       "49999  [one, expects, star, trek, movies, high, art, ...   \n",
       "\n",
       "                                                 stemmed  \n",
       "0      [one, review, mention, watch, oz, episod, hook...  \n",
       "1      [wonder, littl, product, br, br, film, techniq...  \n",
       "2      [thought, wonder, way, spend, time, hot, summe...  \n",
       "3      [basic, famili, littl, boy, jake, think, zombi...  \n",
       "4      [petter, mattei, love, time, money, visual, st...  \n",
       "...                                                  ...  \n",
       "49995  [thought, movi, right, good, job, creativ, ori...  \n",
       "49996  [bad, plot, bad, dialogu, bad, act, idiot, dir...  \n",
       "49997  [cathol, taught, parochi, elementari, school, ...  \n",
       "49998  [go, disagre, previous, comment, side, maltin,...  \n",
       "49999  [one, expect, star, trek, movi, high, art, fan...  \n",
       "\n",
       "[50000 rows x 4 columns]"
      ]
     },
     "execution_count": 45,
     "metadata": {},
     "output_type": "execute_result"
    }
   ],
   "source": [
    "df"
   ]
  },
  {
   "cell_type": "code",
   "execution_count": 46,
   "metadata": {
    "execution": {
     "iopub.execute_input": "2021-10-07T17:17:23.240237Z",
     "iopub.status.busy": "2021-10-07T17:17:23.239850Z",
     "iopub.status.idle": "2021-10-07T17:17:23.247113Z",
     "shell.execute_reply": "2021-10-07T17:17:23.245743Z",
     "shell.execute_reply.started": "2021-10-07T17:17:23.240193Z"
    }
   },
   "outputs": [
    {
     "data": {
      "text/plain": [
       "<50000x68144 sparse matrix of type '<class 'numpy.float64'>'\n",
       "\twith 4667097 stored elements in Compressed Sparse Row format>"
      ]
     },
     "execution_count": 46,
     "metadata": {},
     "output_type": "execute_result"
    }
   ],
   "source": [
    "tfidf_vectorizer_vectors"
   ]
  },
  {
   "cell_type": "code",
   "execution_count": 47,
   "metadata": {
    "execution": {
     "iopub.execute_input": "2021-10-07T17:17:31.563672Z",
     "iopub.status.busy": "2021-10-07T17:17:31.563282Z",
     "iopub.status.idle": "2021-10-07T17:17:31.570606Z",
     "shell.execute_reply": "2021-10-07T17:17:31.569419Z",
     "shell.execute_reply.started": "2021-10-07T17:17:31.563636Z"
    }
   },
   "outputs": [
    {
     "data": {
      "text/plain": [
       "(50000, 68144)"
      ]
     },
     "execution_count": 47,
     "metadata": {},
     "output_type": "execute_result"
    }
   ],
   "source": [
    "tfidf_vectorizer_vectors.shape"
   ]
  },
  {
   "cell_type": "code",
   "execution_count": 49,
   "metadata": {
    "execution": {
     "iopub.execute_input": "2021-10-07T17:17:51.804273Z",
     "iopub.status.busy": "2021-10-07T17:17:51.803789Z",
     "iopub.status.idle": "2021-10-07T17:17:51.840973Z",
     "shell.execute_reply": "2021-10-07T17:17:51.840317Z",
     "shell.execute_reply.started": "2021-10-07T17:17:51.804243Z"
    }
   },
   "outputs": [
    {
     "data": {
      "text/html": [
       "<div>\n",
       "<style scoped>\n",
       "    .dataframe tbody tr th:only-of-type {\n",
       "        vertical-align: middle;\n",
       "    }\n",
       "\n",
       "    .dataframe tbody tr th {\n",
       "        vertical-align: top;\n",
       "    }\n",
       "\n",
       "    .dataframe thead th {\n",
       "        text-align: right;\n",
       "    }\n",
       "</style>\n",
       "<table border=\"1\" class=\"dataframe\">\n",
       "  <thead>\n",
       "    <tr style=\"text-align: right;\">\n",
       "      <th></th>\n",
       "      <th>review</th>\n",
       "      <th>sentiment</th>\n",
       "      <th>tokenized_text</th>\n",
       "      <th>stemmed</th>\n",
       "    </tr>\n",
       "  </thead>\n",
       "  <tbody>\n",
       "    <tr>\n",
       "      <th>0</th>\n",
       "      <td>one of the other reviewers has mentioned that ...</td>\n",
       "      <td>1</td>\n",
       "      <td>[one, reviewers, mentioned, watching, oz, epis...</td>\n",
       "      <td>[one, review, mention, watch, oz, episod, hook...</td>\n",
       "    </tr>\n",
       "    <tr>\n",
       "      <th>1</th>\n",
       "      <td>a wonderful little production   br    br   the...</td>\n",
       "      <td>1</td>\n",
       "      <td>[wonderful, little, production, br, br, filmin...</td>\n",
       "      <td>[wonder, littl, product, br, br, film, techniq...</td>\n",
       "    </tr>\n",
       "    <tr>\n",
       "      <th>2</th>\n",
       "      <td>i thought this was a wonderful way to spend ti...</td>\n",
       "      <td>1</td>\n",
       "      <td>[thought, wonderful, way, spend, time, hot, su...</td>\n",
       "      <td>[thought, wonder, way, spend, time, hot, summe...</td>\n",
       "    </tr>\n",
       "    <tr>\n",
       "      <th>3</th>\n",
       "      <td>basically there s a family where a little boy ...</td>\n",
       "      <td>2</td>\n",
       "      <td>[basically, family, little, boy, jake, thinks,...</td>\n",
       "      <td>[basic, famili, littl, boy, jake, think, zombi...</td>\n",
       "    </tr>\n",
       "    <tr>\n",
       "      <th>4</th>\n",
       "      <td>petter mattei s  love in the time of money  is...</td>\n",
       "      <td>1</td>\n",
       "      <td>[petter, mattei, love, time, money, visually, ...</td>\n",
       "      <td>[petter, mattei, love, time, money, visual, st...</td>\n",
       "    </tr>\n",
       "    <tr>\n",
       "      <th>...</th>\n",
       "      <td>...</td>\n",
       "      <td>...</td>\n",
       "      <td>...</td>\n",
       "      <td>...</td>\n",
       "    </tr>\n",
       "    <tr>\n",
       "      <th>49995</th>\n",
       "      <td>i thought this movie did a down right good job...</td>\n",
       "      <td>1</td>\n",
       "      <td>[thought, movie, right, good, job, creative, o...</td>\n",
       "      <td>[thought, movi, right, good, job, creativ, ori...</td>\n",
       "    </tr>\n",
       "    <tr>\n",
       "      <th>49996</th>\n",
       "      <td>bad plot  bad dialogue  bad acting  idiotic di...</td>\n",
       "      <td>2</td>\n",
       "      <td>[bad, plot, bad, dialogue, bad, acting, idioti...</td>\n",
       "      <td>[bad, plot, bad, dialogu, bad, act, idiot, dir...</td>\n",
       "    </tr>\n",
       "    <tr>\n",
       "      <th>49997</th>\n",
       "      <td>i am a catholic taught in parochial elementary...</td>\n",
       "      <td>2</td>\n",
       "      <td>[catholic, taught, parochial, elementary, scho...</td>\n",
       "      <td>[cathol, taught, parochi, elementari, school, ...</td>\n",
       "    </tr>\n",
       "    <tr>\n",
       "      <th>49998</th>\n",
       "      <td>i m going to have to disagree with the previou...</td>\n",
       "      <td>2</td>\n",
       "      <td>[going, disagree, previous, comment, side, mal...</td>\n",
       "      <td>[go, disagre, previous, comment, side, maltin,...</td>\n",
       "    </tr>\n",
       "    <tr>\n",
       "      <th>49999</th>\n",
       "      <td>no one expects the star trek movies to be high...</td>\n",
       "      <td>2</td>\n",
       "      <td>[one, expects, star, trek, movies, high, art, ...</td>\n",
       "      <td>[one, expect, star, trek, movi, high, art, fan...</td>\n",
       "    </tr>\n",
       "  </tbody>\n",
       "</table>\n",
       "<p>50000 rows × 4 columns</p>\n",
       "</div>"
      ],
      "text/plain": [
       "                                                  review  sentiment  \\\n",
       "0      one of the other reviewers has mentioned that ...          1   \n",
       "1      a wonderful little production   br    br   the...          1   \n",
       "2      i thought this was a wonderful way to spend ti...          1   \n",
       "3      basically there s a family where a little boy ...          2   \n",
       "4      petter mattei s  love in the time of money  is...          1   \n",
       "...                                                  ...        ...   \n",
       "49995  i thought this movie did a down right good job...          1   \n",
       "49996  bad plot  bad dialogue  bad acting  idiotic di...          2   \n",
       "49997  i am a catholic taught in parochial elementary...          2   \n",
       "49998  i m going to have to disagree with the previou...          2   \n",
       "49999  no one expects the star trek movies to be high...          2   \n",
       "\n",
       "                                          tokenized_text  \\\n",
       "0      [one, reviewers, mentioned, watching, oz, epis...   \n",
       "1      [wonderful, little, production, br, br, filmin...   \n",
       "2      [thought, wonderful, way, spend, time, hot, su...   \n",
       "3      [basically, family, little, boy, jake, thinks,...   \n",
       "4      [petter, mattei, love, time, money, visually, ...   \n",
       "...                                                  ...   \n",
       "49995  [thought, movie, right, good, job, creative, o...   \n",
       "49996  [bad, plot, bad, dialogue, bad, acting, idioti...   \n",
       "49997  [catholic, taught, parochial, elementary, scho...   \n",
       "49998  [going, disagree, previous, comment, side, mal...   \n",
       "49999  [one, expects, star, trek, movies, high, art, ...   \n",
       "\n",
       "                                                 stemmed  \n",
       "0      [one, review, mention, watch, oz, episod, hook...  \n",
       "1      [wonder, littl, product, br, br, film, techniq...  \n",
       "2      [thought, wonder, way, spend, time, hot, summe...  \n",
       "3      [basic, famili, littl, boy, jake, think, zombi...  \n",
       "4      [petter, mattei, love, time, money, visual, st...  \n",
       "...                                                  ...  \n",
       "49995  [thought, movi, right, good, job, creativ, ori...  \n",
       "49996  [bad, plot, bad, dialogu, bad, act, idiot, dir...  \n",
       "49997  [cathol, taught, parochi, elementari, school, ...  \n",
       "49998  [go, disagre, previous, comment, side, maltin,...  \n",
       "49999  [one, expect, star, trek, movi, high, art, fan...  \n",
       "\n",
       "[50000 rows x 4 columns]"
      ]
     },
     "execution_count": 49,
     "metadata": {},
     "output_type": "execute_result"
    }
   ],
   "source": [
    "df"
   ]
  },
  {
   "cell_type": "code",
   "execution_count": 48,
   "metadata": {
    "execution": {
     "iopub.execute_input": "2021-10-07T17:17:34.240966Z",
     "iopub.status.busy": "2021-10-07T17:17:34.240613Z",
     "iopub.status.idle": "2021-10-07T17:17:34.273136Z",
     "shell.execute_reply": "2021-10-07T17:17:34.272255Z",
     "shell.execute_reply.started": "2021-10-07T17:17:34.240931Z"
    }
   },
   "outputs": [],
   "source": [
    "def dummies(x):\n",
    "    if x == 'positive':\n",
    "        return 1\n",
    "    if x == 'negative':\n",
    "        return 2\n",
    "\n",
    "df['sentiment'] = df['sentiment'].apply(lambda x: dummies(x))"
   ]
  },
  {
   "cell_type": "code",
   "execution_count": 50,
   "metadata": {
    "execution": {
     "iopub.execute_input": "2021-10-07T17:17:52.174628Z",
     "iopub.status.busy": "2021-10-07T17:17:52.174114Z",
     "iopub.status.idle": "2021-10-07T17:17:52.207917Z",
     "shell.execute_reply": "2021-10-07T17:17:52.206955Z",
     "shell.execute_reply.started": "2021-10-07T17:17:52.174597Z"
    }
   },
   "outputs": [],
   "source": [
    "from sklearn.model_selection import train_test_split\n",
    "X_train, X_test, y_train, y_test = train_test_split(tfidf_vectorizer_vectors, df['sentiment'], test_size=0.3, random_state=101)"
   ]
  },
  {
   "cell_type": "markdown",
   "metadata": {},
   "source": [
    "**LOGISTIC REGRESSION**"
   ]
  },
  {
   "cell_type": "code",
   "execution_count": 51,
   "metadata": {
    "execution": {
     "iopub.execute_input": "2021-10-07T17:17:57.021014Z",
     "iopub.status.busy": "2021-10-07T17:17:57.020630Z",
     "iopub.status.idle": "2021-10-07T17:17:58.101583Z",
     "shell.execute_reply": "2021-10-07T17:17:58.100473Z",
     "shell.execute_reply.started": "2021-10-07T17:17:57.020981Z"
    }
   },
   "outputs": [
    {
     "data": {
      "text/plain": [
       "LogisticRegression(solver='sag')"
      ]
     },
     "execution_count": 51,
     "metadata": {},
     "output_type": "execute_result"
    }
   ],
   "source": [
    "from sklearn.linear_model import LogisticRegression\n",
    "\n",
    "lr = LogisticRegression(solver='sag')\n",
    "\n",
    "lr.fit(X_train,y_train)"
   ]
  },
  {
   "cell_type": "code",
   "execution_count": 52,
   "metadata": {
    "execution": {
     "iopub.execute_input": "2021-10-07T17:18:06.007302Z",
     "iopub.status.busy": "2021-10-07T17:18:06.006919Z",
     "iopub.status.idle": "2021-10-07T17:18:06.016428Z",
     "shell.execute_reply": "2021-10-07T17:18:06.015350Z",
     "shell.execute_reply.started": "2021-10-07T17:18:06.007267Z"
    }
   },
   "outputs": [],
   "source": [
    "logistic_predictions = lr.predict(X_test)"
   ]
  },
  {
   "cell_type": "code",
   "execution_count": 53,
   "metadata": {
    "execution": {
     "iopub.execute_input": "2021-10-07T17:18:09.658691Z",
     "iopub.status.busy": "2021-10-07T17:18:09.658308Z",
     "iopub.status.idle": "2021-10-07T17:18:09.714432Z",
     "shell.execute_reply": "2021-10-07T17:18:09.713116Z",
     "shell.execute_reply.started": "2021-10-07T17:18:09.658650Z"
    }
   },
   "outputs": [
    {
     "name": "stdout",
     "output_type": "stream",
     "text": [
      "[[6788  738]\n",
      " [ 928 6546]]\n",
      "              precision    recall  f1-score   support\n",
      "\n",
      "           1       0.88      0.90      0.89      7526\n",
      "           2       0.90      0.88      0.89      7474\n",
      "\n",
      "    accuracy                           0.89     15000\n",
      "   macro avg       0.89      0.89      0.89     15000\n",
      "weighted avg       0.89      0.89      0.89     15000\n",
      "\n",
      "0.8889333333333334\n"
     ]
    }
   ],
   "source": [
    "from sklearn.metrics import classification_report, confusion_matrix, accuracy_score\n",
    "\n",
    "print(confusion_matrix(y_test,logistic_predictions))\n",
    "print(classification_report(y_test,logistic_predictions))\n",
    "print(accuracy_score(y_test, logistic_predictions))"
   ]
  },
  {
   "cell_type": "markdown",
   "metadata": {},
   "source": [
    "**NAIVE BAYES**"
   ]
  },
  {
   "cell_type": "code",
   "execution_count": 54,
   "metadata": {
    "execution": {
     "iopub.execute_input": "2021-10-07T17:18:15.399396Z",
     "iopub.status.busy": "2021-10-07T17:18:15.398881Z",
     "iopub.status.idle": "2021-10-07T17:18:15.442005Z",
     "shell.execute_reply": "2021-10-07T17:18:15.440818Z",
     "shell.execute_reply.started": "2021-10-07T17:18:15.399362Z"
    }
   },
   "outputs": [
    {
     "data": {
      "text/plain": [
       "MultinomialNB()"
      ]
     },
     "execution_count": 54,
     "metadata": {},
     "output_type": "execute_result"
    }
   ],
   "source": [
    "from sklearn.naive_bayes import MultinomialNB\n",
    "MNB = MultinomialNB()\n",
    "\n",
    "MNB.fit(X_train, y_train)"
   ]
  },
  {
   "cell_type": "code",
   "execution_count": 55,
   "metadata": {
    "execution": {
     "iopub.execute_input": "2021-10-07T17:18:16.557044Z",
     "iopub.status.busy": "2021-10-07T17:18:16.556709Z",
     "iopub.status.idle": "2021-10-07T17:18:16.572072Z",
     "shell.execute_reply": "2021-10-07T17:18:16.571031Z",
     "shell.execute_reply.started": "2021-10-07T17:18:16.557015Z"
    }
   },
   "outputs": [],
   "source": [
    "predicted = MNB.predict(X_test)"
   ]
  },
  {
   "cell_type": "code",
   "execution_count": 56,
   "metadata": {
    "execution": {
     "iopub.execute_input": "2021-10-07T17:18:19.449916Z",
     "iopub.status.busy": "2021-10-07T17:18:19.449591Z",
     "iopub.status.idle": "2021-10-07T17:18:19.503166Z",
     "shell.execute_reply": "2021-10-07T17:18:19.501932Z",
     "shell.execute_reply.started": "2021-10-07T17:18:19.449888Z"
    }
   },
   "outputs": [
    {
     "name": "stdout",
     "output_type": "stream",
     "text": [
      "[[6346 1180]\n",
      " [ 935 6539]]\n",
      "              precision    recall  f1-score   support\n",
      "\n",
      "           1       0.87      0.84      0.86      7526\n",
      "           2       0.85      0.87      0.86      7474\n",
      "\n",
      "    accuracy                           0.86     15000\n",
      "   macro avg       0.86      0.86      0.86     15000\n",
      "weighted avg       0.86      0.86      0.86     15000\n",
      "\n",
      "0.859\n"
     ]
    }
   ],
   "source": [
    "from sklearn.metrics import classification_report, confusion_matrix, accuracy_score\n",
    "\n",
    "print(confusion_matrix(y_test,predicted))\n",
    "print(classification_report(y_test,predicted))\n",
    "print(accuracy_score(y_test, predicted))"
   ]
  },
  {
   "cell_type": "code",
   "execution_count": null,
   "metadata": {},
   "outputs": [],
   "source": []
  },
  {
   "cell_type": "markdown",
   "metadata": {},
   "source": [
    "**DECISION TREE**"
   ]
  },
  {
   "cell_type": "code",
   "execution_count": 65,
   "metadata": {
    "execution": {
     "iopub.execute_input": "2021-10-07T17:19:55.512914Z",
     "iopub.status.busy": "2021-10-07T17:19:55.512524Z",
     "iopub.status.idle": "2021-10-07T17:20:59.394981Z",
     "shell.execute_reply": "2021-10-07T17:20:59.394226Z",
     "shell.execute_reply.started": "2021-10-07T17:19:55.512884Z"
    }
   },
   "outputs": [],
   "source": [
    "from sklearn import tree\n",
    "clf = tree.DecisionTreeClassifier()\n",
    "clf.fit(X_train,y_train)\n",
    "decisonTree = clf.predict(X_test)"
   ]
  },
  {
   "cell_type": "code",
   "execution_count": 66,
   "metadata": {
    "execution": {
     "iopub.execute_input": "2021-10-07T17:21:19.254128Z",
     "iopub.status.busy": "2021-10-07T17:21:19.253767Z",
     "iopub.status.idle": "2021-10-07T17:21:19.308062Z",
     "shell.execute_reply": "2021-10-07T17:21:19.307040Z",
     "shell.execute_reply.started": "2021-10-07T17:21:19.254094Z"
    }
   },
   "outputs": [
    {
     "name": "stdout",
     "output_type": "stream",
     "text": [
      "[[5466 2060]\n",
      " [2081 5393]]\n",
      "              precision    recall  f1-score   support\n",
      "\n",
      "           1       0.72      0.73      0.73      7526\n",
      "           2       0.72      0.72      0.72      7474\n",
      "\n",
      "    accuracy                           0.72     15000\n",
      "   macro avg       0.72      0.72      0.72     15000\n",
      "weighted avg       0.72      0.72      0.72     15000\n",
      "\n",
      "0.7239333333333333\n"
     ]
    }
   ],
   "source": [
    "from sklearn.metrics import classification_report, confusion_matrix, accuracy_score\n",
    "\n",
    "print(confusion_matrix(y_test,decisonTree))\n",
    "print(classification_report(y_test,decisonTree))\n",
    "print(accuracy_score(y_test, decisonTree))"
   ]
  },
  {
   "cell_type": "code",
   "execution_count": null,
   "metadata": {},
   "outputs": [],
   "source": []
  },
  {
   "cell_type": "markdown",
   "metadata": {},
   "source": [
    "**BERNOULLI NAIVE BAYES**"
   ]
  },
  {
   "cell_type": "code",
   "execution_count": 63,
   "metadata": {
    "execution": {
     "iopub.execute_input": "2021-10-07T17:19:19.854117Z",
     "iopub.status.busy": "2021-10-07T17:19:19.853732Z",
     "iopub.status.idle": "2021-10-07T17:19:19.944439Z",
     "shell.execute_reply": "2021-10-07T17:19:19.943441Z",
     "shell.execute_reply.started": "2021-10-07T17:19:19.854073Z"
    }
   },
   "outputs": [],
   "source": [
    "from sklearn.naive_bayes import BernoulliNB\n",
    "BNB = BernoulliNB()\n",
    "\n",
    "BNB.fit(X_train, y_train)\n",
    "\n",
    "Predicted_BNB = BNB.predict(X_test)"
   ]
  },
  {
   "cell_type": "code",
   "execution_count": 64,
   "metadata": {
    "execution": {
     "iopub.execute_input": "2021-10-07T17:19:20.112752Z",
     "iopub.status.busy": "2021-10-07T17:19:20.112423Z",
     "iopub.status.idle": "2021-10-07T17:19:20.167201Z",
     "shell.execute_reply": "2021-10-07T17:19:20.165811Z",
     "shell.execute_reply.started": "2021-10-07T17:19:20.112722Z"
    }
   },
   "outputs": [
    {
     "name": "stdout",
     "output_type": "stream",
     "text": [
      "[[6180 1346]\n",
      " [ 891 6583]]\n",
      "              precision    recall  f1-score   support\n",
      "\n",
      "           1       0.87      0.82      0.85      7526\n",
      "           2       0.83      0.88      0.85      7474\n",
      "\n",
      "    accuracy                           0.85     15000\n",
      "   macro avg       0.85      0.85      0.85     15000\n",
      "weighted avg       0.85      0.85      0.85     15000\n",
      "\n",
      "0.8508666666666667\n"
     ]
    }
   ],
   "source": [
    "from sklearn.metrics import classification_report, confusion_matrix, accuracy_score\n",
    "\n",
    "print(confusion_matrix(y_test,Predicted_BNB))\n",
    "print(classification_report(y_test,Predicted_BNB))\n",
    "print(accuracy_score(y_test, Predicted_BNB))"
   ]
  },
  {
   "cell_type": "code",
   "execution_count": null,
   "metadata": {},
   "outputs": [],
   "source": []
  }
 ],
 "metadata": {
  "kernelspec": {
   "display_name": "Python 3",
   "language": "python",
   "name": "python3"
  },
  "language_info": {
   "codemirror_mode": {
    "name": "ipython",
    "version": 3
   },
   "file_extension": ".py",
   "mimetype": "text/x-python",
   "name": "python",
   "nbconvert_exporter": "python",
   "pygments_lexer": "ipython3",
   "version": "3.8.5"
  },
  "toc": {
   "base_numbering": 1,
   "nav_menu": {},
   "number_sections": true,
   "sideBar": true,
   "skip_h1_title": false,
   "title_cell": "Table of Contents",
   "title_sidebar": "Contents",
   "toc_cell": false,
   "toc_position": {},
   "toc_section_display": true,
   "toc_window_display": false
  }
 },
 "nbformat": 4,
 "nbformat_minor": 4
}
